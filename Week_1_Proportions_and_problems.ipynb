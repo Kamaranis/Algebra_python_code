{
  "nbformat": 4,
  "nbformat_minor": 0,
  "metadata": {
    "colab": {
      "provenance": [],
      "toc_visible": true,
      "authorship_tag": "ABX9TyM7VbV7IDnCu6JjhJAHX5fv",
      "include_colab_link": true
    },
    "kernelspec": {
      "name": "python3",
      "display_name": "Python 3"
    },
    "language_info": {
      "name": "python"
    }
  },
  "cells": [
    {
      "cell_type": "markdown",
      "metadata": {
        "id": "view-in-github",
        "colab_type": "text"
      },
      "source": [
        "<a href=\"https://colab.research.google.com/github/Kamaranis/Algebra_python_code/blob/main/Week_1_Proportions_and_problems.ipynb\" target=\"_parent\"><img src=\"https://colab.research.google.com/assets/colab-badge.svg\" alt=\"Open In Colab\"/></a>"
      ]
    },
    {
      "cell_type": "markdown",
      "source": [
        "# Proportions"
      ],
      "metadata": {
        "id": "Kk9rb_3BWcH9"
      }
    },
    {
      "cell_type": "markdown",
      "source": [
        "Set up a proportion:<br>\n",
        "$\\frac{n1}{d1}=\\frac{n2}{d2}$\n",
        "\n",
        "where\n",
        "\n",
        "$\\frac{n1}{d1}=\\frac{nX}{d2}$ or\n",
        "$\\frac{n1}{d1}=\\frac{n2}{dx}$\n"
      ],
      "metadata": {
        "id": "OdhrIKBevNBM"
      }
    },
    {
      "cell_type": "code",
      "source": [
        "# Putting a zero in for the unknown (x) value\n",
        "n1 = 1\n",
        "d1 = 2\n",
        "n2 = 4\n",
        "d2 = 0\n",
        "\n",
        "if n2==0:\n",
        "  answer = d2 * n1 / d1\n",
        "  print(\"n2 = \", answer)\n",
        "\n",
        "if d2==0:\n",
        "  answer = n2 * d1 / n1\n",
        "  print(\"d2 = \", answer)"
      ],
      "metadata": {
        "colab": {
          "base_uri": "https://localhost:8080/"
        },
        "id": "Xt1lOE9tvR7s",
        "outputId": "e86a1946-4f6f-4709-90a0-ccbeeb41957a"
      },
      "execution_count": 5,
      "outputs": [
        {
          "output_type": "stream",
          "name": "stdout",
          "text": [
            "d2 =  8.0\n"
          ]
        }
      ]
    },
    {
      "cell_type": "markdown",
      "source": [
        "## Week-01-extra-practice-problems"
      ],
      "metadata": {
        "id": "owkUfO1JV1Xm"
      }
    },
    {
      "cell_type": "markdown",
      "source": [
        "![xtra problems1-small.png](data:image/png;base64,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)"
      ],
      "metadata": {
        "id": "eUehMDALY1tb"
      }
    },
    {
      "cell_type": "markdown",
      "source": [
        "### Functions"
      ],
      "metadata": {
        "id": "dIbVWzyrZDTz"
      }
    },
    {
      "cell_type": "code",
      "source": [
        "# Converts string input (even fractions) to float\n",
        "def string_frac(in_string):\n",
        "  if \"/\" in in_string:\n",
        "    nd = in.string.split(\"/\")\n",
        "    n = float(nd[0])\n",
        "    d = float(nd[1])\n",
        "    ans = n/d\n",
        "    return ans\n",
        "  else:\n",
        "    ans = float(in_string)\n",
        "    return ans"
      ],
      "metadata": {
        "id": "_Pm2qJaPY4j5"
      },
      "execution_count": null,
      "outputs": []
    }
  ]
}